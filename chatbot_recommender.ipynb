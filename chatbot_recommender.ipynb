{
 "cells": [
  {
   "cell_type": "code",
   "execution_count": 1,
   "metadata": {},
   "outputs": [],
   "source": [
    "import pandas as pd\n",
    "from io import StringIO\n",
    "from sklearn.feature_extraction.text import TfidfVectorizer\n",
    "from sklearn.model_selection import train_test_split\n",
    "from sklearn.feature_extraction.text import CountVectorizer\n",
    "from sklearn.feature_extraction.text import TfidfTransformer\n",
    "from sklearn.naive_bayes import MultinomialNB"
   ]
  },
  {
   "cell_type": "code",
   "execution_count": 2,
   "metadata": {},
   "outputs": [],
   "source": [
    "import csv\n",
    "import seaborn as sns"
   ]
  },
  {
   "cell_type": "code",
   "execution_count": 3,
   "metadata": {},
   "outputs": [],
   "source": [
    "def get_data():\n",
    "    df = pd.read_csv('mySddf.csv')\n",
    "    return df"
   ]
  },
  {
   "cell_type": "code",
   "execution_count": 4,
   "metadata": {},
   "outputs": [
    {
     "data": {
      "text/html": [
       "<div>\n",
       "<style scoped>\n",
       "    .dataframe tbody tr th:only-of-type {\n",
       "        vertical-align: middle;\n",
       "    }\n",
       "\n",
       "    .dataframe tbody tr th {\n",
       "        vertical-align: top;\n",
       "    }\n",
       "\n",
       "    .dataframe thead th {\n",
       "        text-align: right;\n",
       "    }\n",
       "</style>\n",
       "<table border=\"1\" class=\"dataframe\">\n",
       "  <thead>\n",
       "    <tr style=\"text-align: right;\">\n",
       "      <th></th>\n",
       "      <th>Unnamed: 0</th>\n",
       "      <th>Disease</th>\n",
       "      <th>Symptom_1</th>\n",
       "      <th>Symptom_2</th>\n",
       "      <th>Symptom_3</th>\n",
       "      <th>Description</th>\n",
       "      <th>Precaution_1</th>\n",
       "      <th>Precaution_2</th>\n",
       "      <th>Precaution_3</th>\n",
       "      <th>Precaution_4</th>\n",
       "    </tr>\n",
       "  </thead>\n",
       "  <tbody>\n",
       "    <tr>\n",
       "      <th>0</th>\n",
       "      <td>0</td>\n",
       "      <td>Fungal infection</td>\n",
       "      <td>itching</td>\n",
       "      <td>skin_rash</td>\n",
       "      <td>nodal_skin_eruptions</td>\n",
       "      <td>In humans, fungal infections occur when an inv...</td>\n",
       "      <td>bath twice</td>\n",
       "      <td>use detol or neem in bathing water</td>\n",
       "      <td>keep infected area dry</td>\n",
       "      <td>use clean cloths</td>\n",
       "    </tr>\n",
       "    <tr>\n",
       "      <th>1</th>\n",
       "      <td>1</td>\n",
       "      <td>Allergy</td>\n",
       "      <td>continuous_sneezing</td>\n",
       "      <td>shivering</td>\n",
       "      <td>chills</td>\n",
       "      <td>An allergy is an immune system response to a f...</td>\n",
       "      <td>apply calamine</td>\n",
       "      <td>cover area with bandage</td>\n",
       "      <td>NaN</td>\n",
       "      <td>use ice to compress itching</td>\n",
       "    </tr>\n",
       "    <tr>\n",
       "      <th>2</th>\n",
       "      <td>2</td>\n",
       "      <td>GERD</td>\n",
       "      <td>stomach_pain</td>\n",
       "      <td>acidity</td>\n",
       "      <td>ulcers_on_tongue</td>\n",
       "      <td>Gastroesophageal reflux disease, or GERD, is a...</td>\n",
       "      <td>avoid fatty spicy food</td>\n",
       "      <td>avoid lying down after eating</td>\n",
       "      <td>maintain healthy weight</td>\n",
       "      <td>exercise</td>\n",
       "    </tr>\n",
       "    <tr>\n",
       "      <th>3</th>\n",
       "      <td>3</td>\n",
       "      <td>Chronic cholestasis</td>\n",
       "      <td>itching</td>\n",
       "      <td>vomiting</td>\n",
       "      <td>yellowish_skin</td>\n",
       "      <td>Chronic cholestatic diseases, whether occurrin...</td>\n",
       "      <td>cold baths</td>\n",
       "      <td>anti itch medicine</td>\n",
       "      <td>consult doctor</td>\n",
       "      <td>eat healthy</td>\n",
       "    </tr>\n",
       "    <tr>\n",
       "      <th>4</th>\n",
       "      <td>4</td>\n",
       "      <td>Drug Reaction</td>\n",
       "      <td>itching</td>\n",
       "      <td>skin_rash</td>\n",
       "      <td>stomach_pain</td>\n",
       "      <td>An adverse drug reaction (ADR) is an injury ca...</td>\n",
       "      <td>stop irritation</td>\n",
       "      <td>consult nearest hospital</td>\n",
       "      <td>stop taking drug</td>\n",
       "      <td>follow up</td>\n",
       "    </tr>\n",
       "  </tbody>\n",
       "</table>\n",
       "</div>"
      ],
      "text/plain": [
       "   Unnamed: 0              Disease             Symptom_1   Symptom_2  \\\n",
       "0           0     Fungal infection               itching   skin_rash   \n",
       "1           1              Allergy   continuous_sneezing   shivering   \n",
       "2           2                 GERD          stomach_pain     acidity   \n",
       "3           3  Chronic cholestasis               itching    vomiting   \n",
       "4           4        Drug Reaction               itching   skin_rash   \n",
       "\n",
       "               Symptom_3                                        Description  \\\n",
       "0   nodal_skin_eruptions  In humans, fungal infections occur when an inv...   \n",
       "1                 chills  An allergy is an immune system response to a f...   \n",
       "2       ulcers_on_tongue  Gastroesophageal reflux disease, or GERD, is a...   \n",
       "3         yellowish_skin  Chronic cholestatic diseases, whether occurrin...   \n",
       "4           stomach_pain  An adverse drug reaction (ADR) is an injury ca...   \n",
       "\n",
       "             Precaution_1                        Precaution_2  \\\n",
       "0              bath twice  use detol or neem in bathing water   \n",
       "1          apply calamine             cover area with bandage   \n",
       "2  avoid fatty spicy food       avoid lying down after eating   \n",
       "3              cold baths                  anti itch medicine   \n",
       "4         stop irritation            consult nearest hospital   \n",
       "\n",
       "              Precaution_3                 Precaution_4  \n",
       "0   keep infected area dry             use clean cloths  \n",
       "1                      NaN  use ice to compress itching  \n",
       "2  maintain healthy weight                     exercise  \n",
       "3           consult doctor                  eat healthy  \n",
       "4         stop taking drug                    follow up  "
      ]
     },
     "execution_count": 4,
     "metadata": {},
     "output_type": "execute_result"
    }
   ],
   "source": [
    "lp=pd.read_csv('mySddf.csv')\n",
    "\n",
    "lp.isnull().sum()\n",
    "list_drop=['disease']\n",
    "lp.drop(list_drop,axis=1, inplace= True)\n",
    "lp.head()"
   ]
  },
  {
   "cell_type": "code",
   "execution_count": 5,
   "metadata": {},
   "outputs": [],
   "source": [
    "def data_prepare():# all this work for creating dictionary\n",
    "    col = ['Unnamed: 0','Disease','Symptom_1','Symptom_2','Symptom_3', 'Description', 'Precaution_1', 'Precaution_2', 'Precaution_3', 'Precaution_4']\n",
    "    y= get_data() #provides access to file resources distributed with the package.\n",
    "    y = y[col]\n",
    "    y = y[pd.notnull(y['Description'])] # removes the row if found null\n",
    "    y.columns = ['Unnamed: 0','Disease','Symptom_1','Symptom_2','Symptom_3', 'Description', 'Precaution_1', 'Precaution_2', 'Precaution_3', 'Precaution_4']\n",
    "    y['category_id'] = y['Disease'].factorize()[0]\n",
    "    #print(y['category_id'])\n",
    "    category_id_df = y[['Disease', 'category_id']].drop_duplicates().sort_values('category_id')#removes duplicates\n",
    "    category_to_id = dict(category_id_df.values)\n",
    "    id_to_category = dict(category_id_df[['Disease','category_id']].values)#This will add the column in our dataframe\n",
    "    return y\n"
   ]
  },
  {
   "cell_type": "markdown",
   "metadata": {},
   "source": [
    "I have used the Multinomial Naive_Bayes algorithm for prediction because I find it easy to implement and it has high accuracy.\n",
    "The OneVsRest strategy can be used for multi-label learning, where a classifier is used to predict multiple labels for instance. Naive Bayes supports multi-class, but we are in a multi-label scenario, therefore, we wrap Naive Bayes in the OneVsRestClassifier.\n",
    "\n",
    "OneVsRest multi-label strategy:\n",
    "The Multi-label algorithm accepts a binary mask over multiple labels. The result for each prediction will be an array of 0s and 1s marking which class labels apply to each row input sample.\n"
   ]
  },
  {
   "cell_type": "code",
   "execution_count": 6,
   "metadata": {},
   "outputs": [],
   "source": [
    "def naive_algo(choice):\n",
    "    tfidf = TfidfVectorizer(sublinear_tf=True, min_df=5, norm='l2', encoding='latin-1', ngram_range=(1, 2), stop_words='english')\n",
    "    df=data_prepare()\n",
    "    features = tfidf.fit_transform(df.Disease).toarray()\n",
    "    labels = df.category_id\n",
    "    features.shape\n",
    "    X_train, X_test, y_train, y_test = train_test_split(df['Disease'], df[choice], random_state = 0)\n",
    "    count_vect = CountVectorizer()\n",
    "    X_train_counts = count_vect.fit_transform(X_train)\n",
    "    tfidf_transformer = TfidfTransformer()\n",
    "    X_train_tfidf = tfidf_transformer.fit_transform(X_train_counts)\n",
    "    clf = MultinomialNB().fit(X_train_tfidf, y_train)\n",
    "    return clf,count_vect"
   ]
  },
  {
   "cell_type": "code",
   "execution_count": 7,
   "metadata": {},
   "outputs": [],
   "source": [
    "def predict(Disease,choice):\n",
    "    clf,count_vect=naive_algo(choice)\n",
    "    intent=clf.predict(count_vect.transform([Disease]))\n",
    "    intent=str(intent).strip(\"['']\")\n",
    "    print(intent)\n",
    "    return intent"
   ]
  },
  {
   "cell_type": "code",
   "execution_count": 11,
   "metadata": {},
   "outputs": [
    {
     "name": "stdout",
     "output_type": "stream",
     "text": [
      "Enter your disease AIDS\n"
     ]
    }
   ],
   "source": [
    "ques=input(\"Enter your disease \")"
   ]
  },
  {
   "cell_type": "code",
   "execution_count": 14,
   "metadata": {},
   "outputs": [
    {
     "name": "stdout",
     "output_type": "stream",
     "text": [
      "Symptoms are: \n",
      "itching\n",
      " vomiting\n",
      " high_fever\n",
      "\n",
      "\n",
      "Description:\n",
      "\"Acquired immunodeficiency syndrome (AIDS) is a chronic, potentially life-threatening condition caused by the human immunodeficiency virus (HIV). By damaging your immune system, HIV interferes with your body's ability to fight infection and disease.\"\n",
      "\n",
      "\n",
      "Precautions\n",
      "Consult nearest hospital\n",
      "wear ppe if possible\n"
     ]
    }
   ],
   "source": [
    "for i in range(8):\n",
    "    if(i==0):\n",
    "        print(\"Symptoms are: \")\n",
    "        x=predict(ques,'Symptom_1')\n",
    "        intent=str(x).strip(\"['']\")\n",
    "    elif(i==1):\n",
    "        x=predict(ques,'Symptom_2')\n",
    "        intent=str(x).strip(\"['']\")\n",
    "    elif(i==2):\n",
    "        x=predict(ques,'Symptom_3')\n",
    "        intent=str(x).strip(\"['']\")\n",
    "        print('\\n')\n",
    "    elif(i==3):\n",
    "        print(\"Description:\")\n",
    "        x=predict(ques,'Description')\n",
    "        intent=str(x).strip(\"['']\")\n",
    "        print('\\n')\n",
    "    elif(i==4):\n",
    "        print(\"Precautions\")\n",
    "        x=predict(ques,'Precaution_1')\n",
    "        intent=str(x).strip(\"['']\")\n",
    "    elif(i==5):\n",
    "        x=predict(ques,'Precaution_2')\n",
    "        intent=str(x).strip(\"['']\")"
   ]
  },
  {
   "cell_type": "code",
   "execution_count": null,
   "metadata": {},
   "outputs": [],
   "source": [
    "X_train"
   ]
  },
  {
   "cell_type": "code",
   "execution_count": null,
   "metadata": {},
   "outputs": [],
   "source": []
  },
  {
   "cell_type": "code",
   "execution_count": null,
   "metadata": {},
   "outputs": [],
   "source": []
  }
 ],
 "metadata": {
  "kernelspec": {
   "display_name": "Python 3",
   "language": "python",
   "name": "python3"
  },
  "language_info": {
   "codemirror_mode": {
    "name": "ipython",
    "version": 3
   },
   "file_extension": ".py",
   "mimetype": "text/x-python",
   "name": "python",
   "nbconvert_exporter": "python",
   "pygments_lexer": "ipython3",
   "version": "3.8.5"
  }
 },
 "nbformat": 4,
 "nbformat_minor": 4
}
